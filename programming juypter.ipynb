{
 "cells": [
  {
   "cell_type": "markdown",
   "id": "b834db72",
   "metadata": {},
   "source": [
    "## Integer"
   ]
  },
  {
   "cell_type": "code",
   "execution_count": 1,
   "id": "b191cd33",
   "metadata": {},
   "outputs": [
    {
     "name": "stdout",
     "output_type": "stream",
     "text": [
      "34\n"
     ]
    }
   ],
   "source": [
    "age=34\n",
    "print(age)"
   ]
  },
  {
   "cell_type": "markdown",
   "id": "34b77382",
   "metadata": {},
   "source": [
    "Whole number without any decimal is callred integer."
   ]
  },
  {
   "cell_type": "markdown",
   "id": "af06f2ff",
   "metadata": {},
   "source": [
    "## Float"
   ]
  },
  {
   "cell_type": "code",
   "execution_count": 2,
   "id": "12abf824",
   "metadata": {},
   "outputs": [
    {
     "name": "stdout",
     "output_type": "stream",
     "text": [
      "5.9\n"
     ]
    }
   ],
   "source": [
    "milk=5.5 # in KG\n",
    "height=5.9 # in feet\n",
    "# print(milk)\n",
    "print(height)\n"
   ]
  },
  {
   "cell_type": "markdown",
   "id": "56fa67e1",
   "metadata": {},
   "source": [
    "Numbers that have decimal points are called floats"
   ]
  },
  {
   "cell_type": "markdown",
   "id": "88162886",
   "metadata": {},
   "source": [
    "## String"
   ]
  },
  {
   "cell_type": "code",
   "execution_count": 3,
   "id": "1c3dd3b5",
   "metadata": {},
   "outputs": [
    {
     "name": "stdout",
     "output_type": "stream",
     "text": [
      "Name: SajjadAhmad\n",
      "Age: 37\n",
      "Address: Teh & Distt Haripur \n"
     ]
    }
   ],
   "source": [
    "firstname=\"Sajjad\"\n",
    "secondname=\"Ahmad\"\n",
    "age=37\n",
    "address=\"Teh & Distt Haripur\"\n",
    "print(f\"Name: {firstname+secondname}\\nAge: {age}\\nAddress: {address} \")"
   ]
  },
  {
   "cell_type": "markdown",
   "id": "6214010b",
   "metadata": {},
   "source": [
    "A sequence of character in single or double qoutes are known as string"
   ]
  },
  {
   "cell_type": "markdown",
   "id": "4bff46c8",
   "metadata": {},
   "source": [
    "## Boolean"
   ]
  },
  {
   "cell_type": "code",
   "execution_count": 4,
   "id": "ed707a7e",
   "metadata": {},
   "outputs": [
    {
     "name": "stdout",
     "output_type": "stream",
     "text": [
      "True\n",
      "False\n"
     ]
    }
   ],
   "source": [
    "fan_on = True\n",
    "fan_off = False\n",
    "print(fan_on)\n",
    "print(fan_on == fan_off)\n"
   ]
  },
  {
   "cell_type": "markdown",
   "id": "bd4bcdbc",
   "metadata": {},
   "source": [
    "The logical operations like True or False is called boolean"
   ]
  }
 ],
 "metadata": {
  "kernelspec": {
   "display_name": "base",
   "language": "python",
   "name": "python3"
  },
  "language_info": {
   "codemirror_mode": {
    "name": "ipython",
    "version": 3
   },
   "file_extension": ".py",
   "mimetype": "text/x-python",
   "name": "python",
   "nbconvert_exporter": "python",
   "pygments_lexer": "ipython3",
   "version": "3.12.9"
  }
 },
 "nbformat": 4,
 "nbformat_minor": 5
}
